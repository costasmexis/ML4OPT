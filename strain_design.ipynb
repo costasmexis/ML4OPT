{
 "cells": [
  {
   "cell_type": "code",
   "execution_count": 17,
   "metadata": {},
   "outputs": [],
   "source": [
    "%load_ext autoreload\n",
    "%autoreload 2"
   ]
  },
  {
   "cell_type": "markdown",
   "metadata": {},
   "source": [
    "Load strain design data"
   ]
  },
  {
   "cell_type": "code",
   "execution_count": 18,
   "metadata": {},
   "outputs": [],
   "source": [
    "import sys\n",
    "\n",
    "sys.path.append(\"../src\")\n",
    "\n",
    "import matplotlib.pyplot as plt\n",
    "import pandas as pd\n",
    "\n",
    "from src.dataloader import DataLoader\n",
    "from src.machinelearning import MachineLearning\n",
    "from src.optimization import Optimization\n",
    "\n",
    "# Load the data\n",
    "DBTL_A = [\n",
    "    \"2X.Mh\",\n",
    "    \"B.Lm\",\n",
    "    \"2X.Ll\",\n",
    "    \"A.Mm\",\n",
    "    \"B.Ll\",\n",
    "    \"A.Mh\",\n",
    "    \"2X.Lm\",\n",
    "    \"A.Hl\",\n",
    "    \"2X.Hh\",\n",
    "    \"B.Ml\",\n",
    "    \"B.Mm\",\n",
    "    \"2X.Lh\",\n",
    "    \"B.Mh\",\n",
    "    \"2X.Hl\",\n",
    "    \"B.Hl\",\n",
    "    \"2X.Ml\",\n",
    "    \"B.Hm\",\n",
    "    \"B.Lh\",\n",
    "    \"B.Hh\",\n",
    "    \"A.Ll\",\n",
    "    \"A.Hm\",\n",
    "    \"2X.Mm\",\n",
    "    \"A.Hh\",\n",
    "    \"A.Ml\",\n",
    "    \"A.Lm\",\n",
    "    \"A.Lh\",\n",
    "    \"2X.Hm\",\n",
    "]\n",
    "DBTL_B = [\"BL.Mm\", \"BL.Mh\", \"BL.Ml\"]\n",
    "FILENAME = \"preprocessed_Limonene_data.csv\"\n",
    "\n",
    "data = DataLoader(FILENAME, target=\"Limonene\")\n",
    "df = data.df.copy()\n",
    "df_A = df.loc[DBTL_A]\n",
    "df_B = df.loc[DBTL_B]\n",
    "\n",
    "print(f\"DBTL_A shape: {df_A.shape}\")\n",
    "print(f\"DBTL_B shape: {df_B.shape}\")"
   ]
  },
  {
   "cell_type": "markdown",
   "metadata": {},
   "source": [
    "ML-based optimization"
   ]
  },
  {
   "cell_type": "code",
   "execution_count": null,
   "metadata": {},
   "outputs": [],
   "source": [
    "x, y, x_offset, x_factor, y_offset, y_factor, scaled_lb, scaled_ub = data.normalization(\n",
    "    df=df_A\n",
    ")"
   ]
  },
  {
   "cell_type": "code",
   "execution_count": null,
   "metadata": {},
   "outputs": [],
   "source": [
    "EPOCHS = 100\n",
    "BATCH_SIZE = 4\n",
    "VALIDATION_SPLIT = 0.33\n",
    "\n",
    "net = MachineLearning(\n",
    "    input_dim=x.shape[1],\n",
    "    output_dim=y.shape[1],\n",
    "    num_hidden=3,\n",
    "    hidden_dim=3,\n",
    "    activation=\"sigmoid\",\n",
    "    lr=0.01,\n",
    ")\n",
    "\n",
    "net.create_model()\n",
    "net.train(x, y, EPOCHS, BATCH_SIZE, VALIDATION_SPLIT)\n",
    "net.loss_curve()\n",
    "net.save_model(\"reformer_nn.keras\")"
   ]
  },
  {
   "cell_type": "code",
   "execution_count": null,
   "metadata": {},
   "outputs": [],
   "source": [
    "# # Add 2 to all x_offset keys values\n",
    "# x_offset = {key: value + 2 for key, value in x_offset.items()}\n",
    "# y_offset = {key: value + 10 for key, value in y_offset.items()}\n",
    "\n",
    "# x_factor = {key: value * 2 for key, value in x_factor.items()}\n",
    "# y_factor = {key: value * 2 for key, value in y_factor.items()}\n",
    "\n",
    "# scaled_lb = scaled_lb * .005\n",
    "# scaled_ub = scaled_ub * 1.5"
   ]
  },
  {
   "cell_type": "code",
   "execution_count": null,
   "metadata": {},
   "outputs": [],
   "source": [
    "omlt = Optimization(\n",
    "    model_file=\"reformer_nn.keras\", inputs=data.inputs, outputs=data.outputs\n",
    ")\n",
    "omlt.set_scaler(x_offset, x_factor, y_offset, y_factor, scaled_lb, scaled_ub)\n",
    "omlt.load_net()\n",
    "omlt.solve()"
   ]
  },
  {
   "cell_type": "code",
   "execution_count": null,
   "metadata": {},
   "outputs": [],
   "source": []
  },
  {
   "cell_type": "code",
   "execution_count": null,
   "metadata": {},
   "outputs": [],
   "source": []
  },
  {
   "cell_type": "markdown",
   "metadata": {},
   "source": [
    "__Gradient Boosting Trees__"
   ]
  },
  {
   "cell_type": "code",
   "execution_count": 4,
   "metadata": {},
   "outputs": [],
   "source": [
    "import matplotlib.pyplot as plt\n",
    "import numpy as np\n",
    "import pandas as pd\n",
    "import pyomo.environ as pe\n",
    "from omlt import OffsetScaling, OmltBlock\n",
    "from omlt.gbt import GBTBigMFormulation, GradientBoostedTreeModel\n",
    "from omlt.gbt.model import GradientBoostedTreeModel\n",
    "from onnxmltools.convert import convert_sklearn, convert_xgboost\n",
    "from skl2onnx import to_onnx\n",
    "from skl2onnx.common.data_types import FloatTensorType\n",
    "from sklearn.ensemble import GradientBoostingRegressor, RandomForestRegressor\n",
    "from sklearn.model_selection import RandomizedSearchCV, cross_val_score\n",
    "from sklearn.tree import DecisionTreeRegressor\n",
    "from sklearn.decomposition import PCA\n",
    "from xgboost import XGBRegressor"
   ]
  },
  {
   "cell_type": "code",
   "execution_count": 65,
   "metadata": {},
   "outputs": [],
   "source": [
    "def pca_for_visualization(df: pd.DataFrame, target : str = 'Limonene', n_components: int = 2):\n",
    "    pca = PCA(n_components=n_components)\n",
    "    principalComponents = pca.fit_transform(df.drop(target, axis=1))\n",
    "    df_pca = pd.DataFrame(data=principalComponents, columns=[\"PC1\", \"PC2\"])\n",
    "    df_pca.index = df.index\n",
    "    df_pca[target] = df[target].values\n",
    "    return pca, df_pca\n",
    "\n",
    "# Function to plot pca over multiple df\n",
    "def plot_pca(*dfs: pd.DataFrame, target: str = \"Limonene\", threshold: float = 100):\n",
    "    fig, ax = plt.subplots(figsize=(5, 5))\n",
    "    for df in dfs:\n",
    "        ax.scatter(df[\"PC1\"], df[\"PC2\"], s=25, alpha=0.5)\n",
    "        # If df['Limonene'] > 10 label the point by the index of the df\n",
    "        for i, txt in enumerate(df.index):\n",
    "            if df.loc[txt][target] > threshold:\n",
    "                ax.annotate(txt, (df[\"PC1\"][i], df[\"PC2\"][i]))\n",
    "        \n",
    "    plt.xlabel(\"PC1\")\n",
    "    plt.ylabel(\"PC2\")\n",
    "    plt.title(\"PCA of the data\")\n",
    "    plt.show()"
   ]
  },
  {
   "cell_type": "code",
   "execution_count": 66,
   "metadata": {},
   "outputs": [
    {
     "name": "stderr",
     "output_type": "stream",
     "text": [
      "C:\\Users\\mexis\\AppData\\Local\\Temp\\ipykernel_25788\\4149674075.py:17: FutureWarning: Series.__getitem__ treating keys as positions is deprecated. In a future version, integer keys will always be treated as labels (consistent with DataFrame behavior). To access a value by position, use `ser.iloc[pos]`\n",
      "  ax.annotate(txt, (df[\"PC1\"][i], df[\"PC2\"][i]))\n"
     ]
    },
    {
     "data": {
      "image/png": "[encoded data removed]",
      "text/plain": [
       "<Figure size 500x500 with 1 Axes>"
      ]
     },
     "metadata": {},
     "output_type": "display_data"
    },
    {
     "name": "stdout",
     "output_type": "stream",
     "text": [
      "DBTL_A shape: (27, 10)\n",
      "DBTL_B shape: (3, 10)\n"
     ]
    }
   ],
   "source": [
    "# Load the data\n",
    "DBTL_A = [\"2X.Mh\", \"B.Lm\", \"2X.Ll\", \"A.Mm\", \"B.Ll\", \"A.Mh\", \"2X.Lm\", \"A.Hl\", \"2X.Hh\", \"B.Ml\", \"B.Mm\", \"2X.Lh\", \"B.Mh\", \"2X.Hl\", \"B.Hl\", \"2X.Ml\", \"B.Hm\", \"B.Lh\", \"B.Hh\", \"A.Ll\", \"A.Hm\", \"2X.Mm\", \"A.Hh\", \"A.Ml\", \"A.Lm\", \"A.Lh\", \"2X.Hm\"]\n",
    "DBTL_B = [\"BL.Mm\", \"BL.Mh\", \"BL.Ml\"]\n",
    "FILENAME = \"preprocessed_Limonene_data.csv\"\n",
    "\n",
    "df = pd.read_csv(FILENAME, index_col=0)\n",
    "\n",
    "inputs = df.drop(columns=[\"Limonene\"]).columns.values.tolist()\n",
    "outputs = [\"Limonene\"]\n",
    "\n",
    "df_A = df.loc[DBTL_A]\n",
    "df_B = df.loc[DBTL_B]\n",
    "\n",
    "# PCA\n",
    "pca, df_A_pca = pca_for_visualization(df_A, n_components=2)\n",
    "df_B_pca = pd.DataFrame(pca.transform(df_B.drop(outputs, axis=1)), columns=[\"PC1\", \"PC2\"], index=df_B.index)\n",
    "df_B_pca[outputs] = df_B[outputs].values\n",
    "\n",
    "# Plot PCA\n",
    "plot_pca(df_A_pca, df_B_pca)\n",
    "\n",
    "print(f\"DBTL_A shape: {df_A.shape}\")\n",
    "print(f\"DBTL_B shape: {df_B.shape}\")"
   ]
  },
  {
   "cell_type": "code",
   "execution_count": 67,
   "metadata": {},
   "outputs": [],
   "source": [
    "# Data scaling and scaler creation\n",
    "dfin = df_A[inputs]\n",
    "dfout = df_A[outputs]\n",
    "\n",
    "x_offset, x_factor = dfin.mean().to_dict(), dfin.std().to_dict()\n",
    "y_offset, y_factor = dfout.mean().to_dict(), dfout.std().to_dict()\n",
    "\n",
    "dfin = (dfin - dfin.mean()).divide(dfin.std())\n",
    "dfout = (dfout - dfout.mean()).divide(dfout.std())\n",
    "\n",
    "scaled_lb = dfin.min()[inputs].values\n",
    "scaled_ub = dfin.max()[inputs].values\n",
    "\n",
    "scaler = OffsetScaling(\n",
    "        offset_inputs={i: x_offset[inputs[i]] for i in range(len(inputs))},\n",
    "        factor_inputs={i: x_factor[inputs[i]] for i in range(len(inputs))},\n",
    "        offset_outputs={i: y_offset[outputs[i]] for i in range(len(outputs))},\n",
    "        factor_outputs={i: y_factor[outputs[i]] for i in range(len(outputs))}\n",
    "    )\n",
    "\n",
    "scaled_input_bounds = {i: (scaled_lb[i], scaled_ub[i]) for i in range(len(inputs))}"
   ]
  },
  {
   "cell_type": "code",
   "execution_count": 68,
   "metadata": {},
   "outputs": [],
   "source": [
    "def tune_and_train_rf(X_train, y_train):\n",
    "    param_grid = {\n",
    "        \"n_estimators\": np.linspace(3, 100, 100, dtype=int),\n",
    "        \"max_depth\": np.linspace(2, 25, 100, dtype=int),\n",
    "        \"min_samples_split\": np.linspace(0.1, 1.0, 100),\n",
    "        \"min_samples_leaf\": np.linspace(0.1, 0.5, 100)\n",
    "    }\n",
    "    \n",
    "    grid = RandomizedSearchCV(RandomForestRegressor(), param_distributions=param_grid,\n",
    "                                n_iter=500, cv=3, verbose=3, n_jobs=-1)\n",
    "    grid.fit(X_train, y_train)\n",
    "    return grid.best_estimator_\n",
    "\n",
    "def tune_and_train_gbt(X_train, y_train):\n",
    "    param_grid = {\n",
    "        \"n_estimators\": np.linspace(3, 100, 100, dtype=int),\n",
    "        \"max_depth\": np.linspace(2, 25, 100, dtype=int),\n",
    "        \"min_samples_split\": np.linspace(0.1, 1.0, 100),\n",
    "        \"min_samples_leaf\": np.linspace(0.1, 0.5, 100)\n",
    "    }\n",
    "    \n",
    "    grid = RandomizedSearchCV(GradientBoostingRegressor(), param_distributions=param_grid,\n",
    "                                n_iter=500, cv=3, verbose=3, n_jobs=-1)\n",
    "    grid.fit(X_train, y_train)\n",
    "    return grid.best_estimator_"
   ]
  },
  {
   "cell_type": "code",
   "execution_count": 69,
   "metadata": {},
   "outputs": [],
   "source": [
    "# X_train = df_A.drop(columns=[\"Limonene\"]).values\n",
    "# y_train = df_A[\"Limonene\"].values\n",
    "\n",
    "X_train = dfin.values\n",
    "y_train = dfout.values.ravel()"
   ]
  },
  {
   "cell_type": "code",
   "execution_count": 70,
   "metadata": {},
   "outputs": [
    {
     "name": "stdout",
     "output_type": "stream",
     "text": [
      "Fitting 3 folds for each of 500 candidates, totalling 1500 fits\n",
      "CV Score: 0.8192410478554649\n"
     ]
    }
   ],
   "source": [
    "# dtr = RandomForestRegressor()\n",
    "# dtr.fit(X_train, y_train)\n",
    "\n",
    "dtr = tune_and_train_rf(X_train, y_train)\n",
    "# dtr = tune_and_train_gbt(X_train, y_train)\n",
    "\n",
    "cv_score = cross_val_score(dtr, X_train, y_train, scoring='neg_mean_absolute_error', cv=5)\n",
    "print(f\"CV Score: {-cv_score.mean()}\")\n",
    "\n",
    "float_tensor_type = FloatTensorType([None, X_train.shape[1]])\n",
    "initial_types = [(\"float_input\", float_tensor_type)]\n",
    "try:\n",
    "    onnx_model = convert_sklearn(dtr, initial_types=initial_types)\n",
    "except Exception:\n",
    "    onnx_model = convert_xgboost(dtr, initial_types=initial_types)\n",
    "\n",
    "results = pd.DataFrame({\"pred\": dtr.predict(X_train), \"true\": y_train})"
   ]
  },
  {
   "cell_type": "code",
   "execution_count": 71,
   "metadata": {},
   "outputs": [
    {
     "name": "stdout",
     "output_type": "stream",
     "text": [
      "Ipopt 3.11.1: \n",
      "==> Warning: Treating 83 binary and 0 integer variables as continous.\n",
      "\n",
      "\n",
      "******************************************************************************\n",
      "This program contains Ipopt, a library for large-scale nonlinear optimization.\n",
      " Ipopt is released as open source code under the Eclipse Public License (EPL).\n",
      "         For more information visit http://projects.coin-or.org/Ipopt\n",
      "******************************************************************************\n",
      "\n",
      "NOTE: You are using Ipopt by default with the MUMPS linear solver.\n",
      "      Other linear solvers might be more efficient (see Ipopt documentation).\n",
      "\n",
      "\n",
      "This is Ipopt version 3.11.1, running with linear solver mumps.\n",
      "\n",
      "Number of nonzeros in equality constraint Jacobian...:      321\n",
      "Number of nonzeros in inequality constraint Jacobian.:     1109\n",
      "Number of nonzeros in Lagrangian Hessian.............:        0\n",
      "\n",
      "Total number of variables............................:      253\n",
      "                     variables with only lower bounds:      150\n",
      "                variables with lower and upper bounds:      101\n",
      "                     variables with only upper bounds:        0\n",
      "Total number of equality constraints.................:       42\n",
      "Total number of inequality constraints...............:      479\n",
      "        inequality constraints with only lower bounds:        1\n",
      "   inequality constraints with lower and upper bounds:        0\n",
      "        inequality constraints with only upper bounds:      478\n",
      "\n",
      "iter    objective    inf_pr   inf_du lg(mu)  ||d||  lg(rg) alpha_du alpha_pr  ls\n",
      "   0 -0.0000000e+000 3.11e+001 1.42e+000  -1.0 0.00e+000    -  0.00e+000 0.00e+000   0\n",
      "   1 -5.2328115e-001 3.07e+001 1.40e+000  -1.0 3.63e+001    -  9.71e-003 1.44e-002f  1\n",
      "   2 -1.9551174e+000 2.96e+001 1.35e+000  -1.0 4.07e+001    -  2.37e-002 3.52e-002f  1\n",
      "   3 -8.0607051e+000 2.54e+001 1.64e+000  -1.0 4.30e+001    -  6.61e-002 1.42e-001f  1\n",
      "   4 -4.0705992e+001 3.78e+000 5.28e+000  -1.0 3.84e+001    -  2.15e-001 8.51e-001f  1\n",
      "   5 -4.5645378e+001 1.86e+000 2.51e+000  -1.0 9.73e+000    -  6.19e-001 5.08e-001f  1\n",
      "   6 -5.1059041e+001 7.43e-001 9.98e-001  -1.0 9.00e+000    -  5.58e-001 6.01e-001f  1\n",
      "   7 -5.8651336e+001 1.36e-001 6.16e-001  -1.7 9.29e+000    -  5.60e-001 8.17e-001f  1\n",
      "   8 -6.2191573e+001 5.43e-002 2.74e+000  -1.7 5.90e+000    -  8.85e-001 6.00e-001f  1\n",
      "   9 -6.4158300e+001 2.61e-002 3.78e+000  -1.7 3.78e+000    -  6.24e-001 5.20e-001f  1\n",
      "iter    objective    inf_pr   inf_du lg(mu)  ||d||  lg(rg) alpha_du alpha_pr  ls\n",
      "  10 -6.5040422e+001 1.21e-002 2.45e+001  -1.7 1.64e+000    -  1.00e+000 5.37e-001h  1\n",
      "  11 -6.5465640e+001 4.95e-003 5.38e+001  -1.7 7.21e-001    -  1.00e+000 5.89e-001h  1\n",
      "  12 -6.5641520e+001 2.04e-003 1.29e+002  -1.7 3.00e-001    -  1.00e+000 5.87e-001h  1\n",
      "  13 -6.5713819e+001 8.48e-004 3.14e+002  -1.7 1.24e-001    -  1.00e+000 5.85e-001h  1\n",
      "  14 -6.5743755e+001 3.51e-004 7.55e+002  -1.7 5.10e-002    -  1.00e+000 5.86e-001h  1\n",
      "  15 -6.5756195e+001 1.45e-004 1.82e+003  -1.7 2.12e-002    -  1.00e+000 5.86e-001h  1\n",
      "  16 -6.5761326e+001 5.99e-005 4.37e+003  -1.7 8.73e-003    -  1.00e+000 5.87e-001h  1\n",
      "  17 -6.5763461e+001 2.46e-005 1.04e+004  -1.7 3.62e-003    -  1.00e+000 5.90e-001h  1\n",
      "  18 -6.5764341e+001 9.96e-006 2.45e+004  -1.7 1.48e-003    -  1.00e+000 5.95e-001h  1\n",
      "  19 -6.5764708e+001 3.90e-006 5.50e+004  -1.7 6.02e-004    -  1.00e+000 6.08e-001h  1\n",
      "iter    objective    inf_pr   inf_du lg(mu)  ||d||  lg(rg) alpha_du alpha_pr  ls\n",
      "  20 -6.5764709e+001 3.88e-006 3.08e+005  -1.7 2.35e-004    -  1.00e+000 5.01e-003f  8\n",
      "  21 -6.5764908e+001 5.78e-007 7.84e+004  -1.7 2.34e-004    -  1.00e+000 8.51e-001h  1\n",
      "  22 -6.5764911e+001 5.20e-007 6.98e+005  -1.7 3.50e-005    -  1.00e+000 1.00e-001f  4\n",
      "  23 -6.5764943e+001 1.97e-009 2.00e-007  -1.7 3.14e-005    -  1.00e+000 1.00e+000h  1\n",
      "  24 -6.9963274e+001 2.66e-009 3.89e+005  -8.6 4.80e+000    -  6.49e-001 8.75e-001f  1\n",
      "  25 -6.9966331e+001 7.57e-009 2.18e+008  -8.6 1.17e+000    -  8.18e-001 2.60e-003f  1\n",
      "  26 -7.0324314e+001 7.57e-009 4.06e+007  -8.6 1.19e+000    -  8.14e-001 3.00e-001f  1\n",
      "  27 -7.1077178e+001 6.76e-009 5.11e+006  -8.6 8.35e-001    -  8.74e-001 9.01e-001f  1\n",
      "In iteration 27, 1 Slack too small, adjusting variable bound\n",
      "  28 -7.1157842e+001 6.73e-009 5.39e+004  -8.6 8.16e-002    -  9.89e-001 9.89e-001f  1\n",
      "  29 -7.1158698e+001 1.09e-009 1.96e+012  -8.6 8.60e-004    -  5.34e-007 9.95e-001f  1\n",
      "iter    objective    inf_pr   inf_du lg(mu)  ||d||  lg(rg) alpha_du alpha_pr  ls\n",
      "  30 -7.1158699e+001 8.63e-010 1.56e+012  -8.6 6.98e-004    -  7.76e-001 2.05e-001f  1\n",
      "  31 -7.1158701e+001 2.35e-010 4.24e+011  -8.6 2.96e-003    -  4.78e-001 7.27e-001f  1\n",
      "  32 -7.1158701e+001 1.18e-010 2.14e+011  -8.6 5.15e-003    -  5.79e-001 4.96e-001f  1\n",
      "  33 -7.1158701e+001 4.44e-016 4.61e+003  -8.6 1.01e-002    -  8.10e-001 1.00e+000f  1\n",
      "  34 -7.1158701e+001 7.11e-015 1.49e+001  -8.6 2.12e-002    -  9.97e-001 1.00e+000h  1\n",
      "In iteration 34, 1 Slack too small, adjusting variable bound\n",
      "  35 -7.1158701e+001 7.11e-015 1.68e+000  -8.6 2.40e-002    -  8.88e-001 6.55e-001h  1\n",
      "In iteration 35, 1 Slack too small, adjusting variable bound\n",
      "  36 -7.1158701e+001 7.11e-015 7.09e-001  -8.6 8.66e-003    -  5.84e-001 4.46e-001f  1\n",
      "  37 -7.1158701e+001 7.11e-015 2.54e-014  -8.6 4.82e-003    -  1.00e+000 1.00e+000f  1\n",
      "\n",
      "Number of Iterations....: 37\n",
      "\n",
      "                                   (scaled)                 (unscaled)\n",
      "Objective...............: -7.1158701356262881e+001  -7.1158701356262881e+001\n",
      "Dual infeasibility......:  2.5368596112684827e-014   2.5368596112684827e-014\n",
      "Constraint violation....:  7.1054273576010019e-015   7.1054273576010019e-015\n",
      "Complementarity.........:  4.4856499020443269e-009   4.4856499020443269e-009\n",
      "Overall NLP error.......:  4.4856499020443269e-009   4.4856499020443269e-009\n",
      "\n",
      "\n",
      "Number of objective function evaluations             = 48\n",
      "Number of objective gradient evaluations             = 38\n",
      "Number of equality constraint evaluations            = 48\n",
      "Number of inequality constraint evaluations          = 48\n",
      "Number of equality constraint Jacobian evaluations   = 38\n",
      "Number of inequality constraint Jacobian evaluations = 38\n",
      "Number of Lagrangian Hessian evaluations             = 37\n",
      "Total CPU secs in IPOPT (w/o function evaluations)   =      0.100\n",
      "Total CPU secs in NLP function evaluations           =      0.000\n",
      "\n",
      "EXIT: Optimal Solution Found.\n"
     ]
    }
   ],
   "source": [
    "def add_tree_model(opt_model, onnx_model, scaler, scaled_input_bounds):\n",
    "    # init omlt block and gbt model based on the onnx format\n",
    "    opt_model.gbt = OmltBlock()\n",
    "    gbt_model = GradientBoostedTreeModel(onnx_model, scaling_object=scaler, scaled_input_bounds=scaled_input_bounds)\n",
    "\n",
    "    # omlt uses a big-m formulation to encode the tree models\n",
    "    formulation = GBTBigMFormulation(gbt_model)\n",
    "    opt_model.gbt.build_formulation(formulation)\n",
    "\n",
    "\n",
    "opt_model = pe.ConcreteModel()\n",
    "add_tree_model(opt_model, onnx_model, scaler, scaled_input_bounds)\n",
    "\n",
    "# Add objective and constraints\n",
    "opt_model.obj = pe.Objective(expr=opt_model.gbt.outputs[0], sense=pe.maximize)\n",
    "\n",
    "Q40322_MENSP_idx = inputs.index('Q40322_MENSP')\n",
    "opt_model.cons = pe.Constraint(expr=opt_model.gbt.inputs[Q40322_MENSP_idx] >= 8)\n",
    "\n",
    "solver = pe.SolverFactory(\"ipopt\")\n",
    "status = solver.solve(opt_model, tee=True)"
   ]
  },
  {
   "cell_type": "code",
   "execution_count": 72,
   "metadata": {},
   "outputs": [
    {
     "name": "stdout",
     "output_type": "stream",
     "text": [
      "Objective value 71.15870135626288\n"
     ]
    },
    {
     "data": {
      "text/html": [
       "<div>\n",
       "<style scoped>\n",
       "    .dataframe tbody tr th:only-of-type {\n",
       "        vertical-align: middle;\n",
       "    }\n",
       "\n",
       "    .dataframe tbody tr th {\n",
       "        vertical-align: top;\n",
       "    }\n",
       "\n",
       "    .dataframe thead th {\n",
       "        text-align: right;\n",
       "    }\n",
       "</style>\n",
       "<table border=\"1\" class=\"dataframe\">\n",
       "  <thead>\n",
       "    <tr style=\"text-align: right;\">\n",
       "      <th></th>\n",
       "      <th>Value</th>\n",
       "    </tr>\n",
       "  </thead>\n",
       "  <tbody>\n",
       "    <tr>\n",
       "      <th>MVD1_YEAST</th>\n",
       "      <td>1.226221</td>\n",
       "    </tr>\n",
       "    <tr>\n",
       "      <th>Q40322_MENSP</th>\n",
       "      <td>8.911809</td>\n",
       "    </tr>\n",
       "    <tr>\n",
       "      <th>IDI_ECOLI</th>\n",
       "      <td>2.567641</td>\n",
       "    </tr>\n",
       "    <tr>\n",
       "      <th>ATOB_ECOLI</th>\n",
       "      <td>0.226875</td>\n",
       "    </tr>\n",
       "    <tr>\n",
       "      <th>Q8LKJ3_ABIGR</th>\n",
       "      <td>2.290010</td>\n",
       "    </tr>\n",
       "    <tr>\n",
       "      <th>Q9FD87_STAAU</th>\n",
       "      <td>0.810112</td>\n",
       "    </tr>\n",
       "    <tr>\n",
       "      <th>Q9FD86_STAAU</th>\n",
       "      <td>0.589027</td>\n",
       "    </tr>\n",
       "    <tr>\n",
       "      <th>KIME_YEAST</th>\n",
       "      <td>0.253013</td>\n",
       "    </tr>\n",
       "    <tr>\n",
       "      <th>ERG8_YEAST</th>\n",
       "      <td>0.805385</td>\n",
       "    </tr>\n",
       "  </tbody>\n",
       "</table>\n",
       "</div>"
      ],
      "text/plain": [
       "                 Value\n",
       "MVD1_YEAST    1.226221\n",
       "Q40322_MENSP  8.911809\n",
       "IDI_ECOLI     2.567641\n",
       "ATOB_ECOLI    0.226875\n",
       "Q8LKJ3_ABIGR  2.290010\n",
       "Q9FD87_STAAU  0.810112\n",
       "Q9FD86_STAAU  0.589027\n",
       "KIME_YEAST    0.253013\n",
       "ERG8_YEAST    0.805385"
      ]
     },
     "execution_count": 72,
     "metadata": {},
     "output_type": "execute_result"
    }
   ],
   "source": [
    "print(f\"Objective value {opt_model.gbt.outputs[0].value}\")\n",
    "\n",
    "next_x = [opt_model.gbt.inputs[idx].value for idx in range(len(opt_model.gbt.inputs))]\n",
    "next_x = pd.DataFrame(\n",
    "    data=next_x, index=df_A.columns.drop(\"Limonene\"), columns=[\"Value\"]\n",
    ")\n",
    "next_x"
   ]
  },
  {
   "cell_type": "code",
   "execution_count": 83,
   "metadata": {},
   "outputs": [
    {
     "name": "stderr",
     "output_type": "stream",
     "text": [
      "C:\\Users\\mexis\\AppData\\Local\\Temp\\ipykernel_25788\\4149674075.py:17: FutureWarning: Series.__getitem__ treating keys as positions is deprecated. In a future version, integer keys will always be treated as labels (consistent with DataFrame behavior). To access a value by position, use `ser.iloc[pos]`\n",
      "  ax.annotate(txt, (df[\"PC1\"][i], df[\"PC2\"][i]))\n"
     ]
    },
    {
     "data": {
      "image/png": "[encoded data removed]",
      "text/plain": [
       "<Figure size 500x500 with 1 Axes>"
      ]
     },
     "metadata": {},
     "output_type": "display_data"
    }
   ],
   "source": [
    "new_design = next_x.T\n",
    "\n",
    "new_design_pca = pd.DataFrame(pca.transform(new_design), columns=[\"PC1\", \"PC2\"], index=new_design.index)\n",
    "new_design_pca[outputs] = dtr.predict(new_design.values)\n",
    "\n",
    "plot_pca(df_A_pca, df_B_pca, new_design_pca, threshold=100)"
   ]
  }
 ],
 "metadata": {
  "kernelspec": {
   "display_name": "main",
   "language": "python",
   "name": "python3"
  },
  "language_info": {
   "codemirror_mode": {
    "name": "ipython",
    "version": 3
   },
   "file_extension": ".py",
   "mimetype": "text/x-python",
   "name": "python",
   "nbconvert_exporter": "python",
   "pygments_lexer": "ipython3",
   "version": "3.10.13"
  }
 },
 "nbformat": 4,
 "nbformat_minor": 2
}
